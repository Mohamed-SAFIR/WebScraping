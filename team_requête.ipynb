{
 "cells": [
  {
   "cell_type": "markdown",
   "metadata": {},
   "source": [
    "## LA TEAM REQUÊTE !!!"
   ]
  },
  {
   "cell_type": "code",
   "execution_count": 3,
   "metadata": {},
   "outputs": [],
   "source": [
    "from pymongo import MongoClient\n",
    "client = MongoClient('localhost', 27017)\n",
    "db = client['micromania']\n",
    "games = db['games']"
   ]
  },
  {
   "cell_type": "markdown",
   "metadata": {},
   "source": [
    "### Commençons par afficher le nombre total d'éléments"
   ]
  },
  {
   "cell_type": "code",
   "execution_count": 4,
   "metadata": {},
   "outputs": [
    {
     "data": {
      "text/plain": [
       "[{'_id': 'null', 'total': 3320}]"
      ]
     },
     "execution_count": 4,
     "metadata": {},
     "output_type": "execute_result"
    }
   ],
   "source": [
    "nb_elements = { \"$group\" : { \"_id\": \"null\", \"total\" : {\"$sum\": 1} } } \n",
    "list(games.aggregate([nb_elements]))"
   ]
  },
  {
   "cell_type": "markdown",
   "metadata": {},
   "source": [
    "### Une requête simple pour par exemple, afficher les jeux XBOX ONE inférieur à 15€"
   ]
  },
  {
   "cell_type": "code",
   "execution_count": 5,
   "metadata": {},
   "outputs": [
    {
     "data": {
      "text/plain": [
       "[{'Title': 'Gears 5', 'Console': 'XBOX ONE', 'Price': 14.99},\n",
       " {'Title': 'Ori And The Will Of The Wisps',\n",
       "  'Console': 'XBOX ONE',\n",
       "  'Price': 14.99},\n",
       " {'Title': 'Tennis World Tour Legend Edition Exclusivité Micromania',\n",
       "  'Console': 'XBOX ONE',\n",
       "  'Price': 12.99},\n",
       " {'Title': \"Hellblade Senua's Sacrifice\",\n",
       "  'Console': 'XBOX ONE',\n",
       "  'Price': 9.99},\n",
       " {'Title': 'Hunt Showdown', 'Console': 'XBOX ONE', 'Price': 14.99},\n",
       " {'Title': 'Narcos Rise Of The Cartels',\n",
       "  'Console': 'XBOX ONE',\n",
       "  'Price': 14.99},\n",
       " {'Title': 'Gears 5', 'Console': 'XBOX ONE', 'Price': 14.99},\n",
       " {'Title': 'Ori And The Will Of The Wisps',\n",
       "  'Console': 'XBOX ONE',\n",
       "  'Price': 14.99},\n",
       " {'Title': 'Tennis World Tour Legend Edition Exclusivité Micromania',\n",
       "  'Console': 'XBOX ONE',\n",
       "  'Price': 12.99},\n",
       " {'Title': \"Hellblade Senua's Sacrifice\",\n",
       "  'Console': 'XBOX ONE',\n",
       "  'Price': 9.99},\n",
       " {'Title': 'Hunt Showdown', 'Console': 'XBOX ONE', 'Price': 14.99},\n",
       " {'Title': 'Narcos Rise Of The Cartels',\n",
       "  'Console': 'XBOX ONE',\n",
       "  'Price': 14.99}]"
      ]
     },
     "execution_count": 5,
     "metadata": {},
     "output_type": "execute_result"
    }
   ],
   "source": [
    "console = \"XBOX ONE\"\n",
    "price = 15\n",
    "list(games.find({\"Price\": {\"$lte\": price}, 'Console': console}, {\"Title\":1, \"_id\":0, 'Price':1, 'Console':1}))"
   ]
  },
  {
   "cell_type": "markdown",
   "metadata": {},
   "source": [
    "### Moyenne des prix par console et nombre de jeux par console"
   ]
  },
  {
   "cell_type": "code",
   "execution_count": 6,
   "metadata": {},
   "outputs": [
    {
     "data": {
      "text/plain": [
       "[{'_id': 'PC', 'moyenne_prix': 55.74714285714286, 'nb_jeux': 140},\n",
       " {'_id': 'WII', 'moyenne_prix': 11.183548387096774, 'nb_jeux': 248},\n",
       " {'_id': 'PS4', 'moyenne_prix': 48.17505338078292, 'nb_jeux': 562},\n",
       " {'_id': 'PS3', 'moyenne_prix': 11.712466960352423, 'nb_jeux': 454},\n",
       " {'_id': 'WII U', 'moyenne_prix': 13.704285714285714, 'nb_jeux': 70},\n",
       " {'_id': 'XBOX ONE', 'moyenne_prix': 55.521645569620254, 'nb_jeux': 316},\n",
       " {'_id': '3DS', 'moyenne_prix': 13.248333333333333, 'nb_jeux': 240},\n",
       " {'_id': 'SWITCH', 'moyenne_prix': 46.42956043956044, 'nb_jeux': 546},\n",
       " {'_id': 'XBOX SERIES X', 'moyenne_prix': 58.1904, 'nb_jeux': 50},\n",
       " {'_id': 'PSP', 'moyenne_prix': 3.99, 'nb_jeux': 2},\n",
       " {'_id': 'PS5', 'moyenne_prix': 62.04128205128205, 'nb_jeux': 156},\n",
       " {'_id': 'XBOX360', 'moyenne_prix': 11.983464052287582, 'nb_jeux': 306},\n",
       " {'_id': 'DIVERS', 'moyenne_prix': 51.02846153846154, 'nb_jeux': 156},\n",
       " {'_id': 'Missing', 'moyenne_prix': 100.74675675675675, 'nb_jeux': 74}]"
      ]
     },
     "execution_count": 6,
     "metadata": {},
     "output_type": "execute_result"
    }
   ],
   "source": [
    "by_console = { \"$group\" : { \"_id\": \"$Console\", \"moyenne_prix\": { \"$avg\": \"$Price\"}, \"nb_jeux\": { \"$sum\": 1} } }\n",
    "list(games.aggregate([by_console]))"
   ]
  },
  {
   "cell_type": "markdown",
   "metadata": {},
   "source": [
    "###  Nombre de jeux par date de sortie"
   ]
  },
  {
   "cell_type": "code",
   "execution_count": 7,
   "metadata": {},
   "outputs": [
    {
     "data": {
      "text/plain": [
       "[{'_id': 0, 'nb_jeux': 1524},\n",
       " {'_id': 2020, 'nb_jeux': 822},\n",
       " {'_id': 2021, 'nb_jeux': 608},\n",
       " {'_id': 2019, 'nb_jeux': 230},\n",
       " {'_id': 2018, 'nb_jeux': 84},\n",
       " {'_id': 2017, 'nb_jeux': 36},\n",
       " {'_id': 2022, 'nb_jeux': 8},\n",
       " {'_id': 2015, 'nb_jeux': 4},\n",
       " {'_id': 2016, 'nb_jeux': 4}]"
      ]
     },
     "execution_count": 7,
     "metadata": {},
     "output_type": "execute_result"
    }
   ],
   "source": [
    "proj = {\"$project\" : {\"Year\" : \"$Année_de_sortie\"} }\n",
    "year = { \"$group\" : { \"_id\": \"$Year\" , \"nb_jeux\": { \"$sum\": 1} } }\n",
    "sort = { \"$sort\" : { \"nb_jeux\":-1 } } #WTF ?????\n",
    "list(games.aggregate([proj, year, sort]))"
   ]
  },
  {
   "cell_type": "markdown",
   "metadata": {},
   "source": [
    "### Prix le plus bas et le plus haut par console\n"
   ]
  },
  {
   "cell_type": "code",
   "execution_count": 8,
   "metadata": {},
   "outputs": [
    {
     "data": {
      "text/plain": [
       "[{'_id': 'PC', 'max_price': 399.99},\n",
       " {'_id': 'WII', 'max_price': 29.99},\n",
       " {'_id': 'PS4', 'max_price': 299.99},\n",
       " {'_id': 'PS3', 'max_price': 24.99},\n",
       " {'_id': 'WII U', 'max_price': 39.99},\n",
       " {'_id': 'XBOX ONE', 'max_price': 399.99},\n",
       " {'_id': '3DS', 'max_price': 33.99},\n",
       " {'_id': 'SWITCH', 'max_price': 219.99},\n",
       " {'_id': 'XBOX SERIES X', 'max_price': 99.99},\n",
       " {'_id': 'PSP', 'max_price': 3.99},\n",
       " {'_id': 'PS5', 'max_price': 149.99},\n",
       " {'_id': 'XBOX360', 'max_price': 24.99},\n",
       " {'_id': 'DIVERS', 'max_price': 179.99},\n",
       " {'_id': 'Missing', 'max_price': 999.99}]"
      ]
     },
     "execution_count": 8,
     "metadata": {},
     "output_type": "execute_result"
    }
   ],
   "source": [
    "min_price = { \"$group\" : {\"_id\": \"$Console\", \"min_price\": {\"$min\": \"$Price\"} } }\n",
    "list(games.aggregate([min_price]))\n",
    "\n",
    "max_price = { \"$group\" : {\"_id\": \"$Console\", \"max_price\": {\"$max\": \"$Price\"} } }\n",
    "list(games.aggregate([max_price]))"
   ]
  },
  {
   "cell_type": "markdown",
   "metadata": {},
   "source": [
    "### Afficher le nombre de jeux par genre "
   ]
  },
  {
   "cell_type": "code",
   "execution_count": 9,
   "metadata": {},
   "outputs": [
    {
     "data": {
      "text/plain": [
       "[{'_id': {'Genre': 'Réflexion'}, 'Total': 24},\n",
       " {'_id': {'Genre': 'Action / réflexion'}, 'Total': 2},\n",
       " {'_id': {'Genre': 'Football'}, 'Total': 26},\n",
       " {'_id': {'Genre': 'Wargame'}, 'Total': 26},\n",
       " {'_id': {'Genre': 'Baston / combat'}, 'Total': 64},\n",
       " {'_id': {'Genre': 'Infiltration'}, 'Total': 8},\n",
       " {'_id': {'Genre': 'Plate-forme'}, 'Total': 76},\n",
       " {'_id': {'Genre': \"Beat'em all\"}, 'Total': 14},\n",
       " {'_id': {'Genre': 'SANS TYPE'}, 'Total': 4},\n",
       " {'_id': {'Genre': 'Danse / musique'}, 'Total': 180},\n",
       " {'_id': {'Genre': 'Course / arcade'}, 'Total': 128},\n",
       " {'_id': {'Genre': 'Action / aventure'}, 'Total': 206},\n",
       " {'_id': {'Genre': 'Stratégie temps réel'}, 'Total': 64},\n",
       " {'_id': {'Genre': 'Accessoire'}, 'Total': 2},\n",
       " {'_id': {'Genre': 'Course / simulation'}, 'Total': 2},\n",
       " {'_id': {'Genre': 'Quake-like'}, 'Total': 28},\n",
       " {'_id': {'Genre': 'Gestion'}, 'Total': 92},\n",
       " {'_id': {'Genre': 'Missing'}, 'Total': 1524},\n",
       " {'_id': {'Genre': 'Rallye'}, 'Total': 8},\n",
       " {'_id': {'Genre': 'Tir'}, 'Total': 18},\n",
       " {'_id': {'Genre': 'Console'}, 'Total': 66},\n",
       " {'_id': {'Genre': 'Jeu de rôle'}, 'Total': 208},\n",
       " {'_id': {'Genre': 'Simulation de vol'}, 'Total': 4},\n",
       " {'_id': {'Genre': \"Shoot'em up\"}, 'Total': 10},\n",
       " {'_id': {'Genre': 'Sport'}, 'Total': 74},\n",
       " {'_id': {'Genre': 'Activités récréatives'}, 'Total': 78},\n",
       " {'_id': {'Genre': 'Aventure'}, 'Total': 126},\n",
       " {'_id': {'Genre': 'Action'}, 'Total': 250},\n",
       " {'_id': {'Genre': 'Basket'}, 'Total': 8}]"
      ]
     },
     "execution_count": 9,
     "metadata": {},
     "output_type": "execute_result"
    }
   ],
   "source": [
    "genre = {\"$group\": {\"_id\": {\"Genre\": \"$Genre\"}, \"Total\": {\"$sum\":1}}}\n",
    "list(games.aggregate([genre]))"
   ]
  },
  {
   "cell_type": "markdown",
   "metadata": {},
   "source": [
    "### Nombre de jeux \"Action\"  par date de sortie"
   ]
  },
  {
   "cell_type": "code",
   "execution_count": 10,
   "metadata": {},
   "outputs": [
    {
     "data": {
      "text/plain": [
       "[{'_id': {'Genre': 'Action', 'Year': 2021}, 'Total': 106},\n",
       " {'_id': {'Genre': 'Action', 'Year': 2020}, 'Total': 86},\n",
       " {'_id': {'Genre': 'Action', 'Year': 2019}, 'Total': 36},\n",
       " {'_id': {'Genre': 'Action', 'Year': 2018}, 'Total': 20},\n",
       " {'_id': {'Genre': 'Action', 'Year': 2017}, 'Total': 2}]"
      ]
     },
     "execution_count": 10,
     "metadata": {},
     "output_type": "execute_result"
    }
   ],
   "source": [
    "match = {\"$match\": {\"Genre\": \"Action\"}}\n",
    "group = {\"$group\": {\"_id\": {\"Genre\": \"$Genre\", \"Year\": \"$Année_de_sortie\"}, \"Total\": {\"$sum\":1} } } \n",
    "sort = {\"$sort\": {\"Total\":-1}}\n",
    "\n",
    "list(games.aggregate([match,group,sort]))"
   ]
  },
  {
   "cell_type": "markdown",
   "metadata": {},
   "source": [
    "### Nb de jeux par console et par genre"
   ]
  },
  {
   "cell_type": "code",
   "execution_count": 11,
   "metadata": {},
   "outputs": [
    {
     "data": {
      "text/plain": [
       "[{'_id': {'Console': 'DIVERS', 'Genre': 'Danse / musique'}, 'Total': 156},\n",
       " {'_id': {'Console': 'PS4', 'Genre': 'Action / aventure'}, 'Total': 92},\n",
       " {'_id': {'Console': 'PS4', 'Genre': 'Jeu de rôle'}, 'Total': 90},\n",
       " {'_id': {'Console': 'PS4', 'Genre': 'Action'}, 'Total': 88},\n",
       " {'_id': {'Console': 'SWITCH', 'Genre': 'Action'}, 'Total': 76},\n",
       " {'_id': {'Console': 'SWITCH', 'Genre': 'Action / aventure'}, 'Total': 66},\n",
       " {'_id': {'Console': 'Missing', 'Genre': 'Console'}, 'Total': 66},\n",
       " {'_id': {'Console': 'SWITCH', 'Genre': 'Jeu de rôle'}, 'Total': 58},\n",
       " {'_id': {'Console': 'SWITCH', 'Genre': 'Aventure'}, 'Total': 54},\n",
       " {'_id': {'Console': 'XBOX ONE', 'Genre': 'Action'}, 'Total': 50},\n",
       " {'_id': {'Console': 'PS4', 'Genre': 'Course / arcade'}, 'Total': 48},\n",
       " {'_id': {'Console': 'XBOX ONE', 'Genre': 'Action / aventure'}, 'Total': 44},\n",
       " {'_id': {'Console': 'SWITCH', 'Genre': 'Course / arcade'}, 'Total': 44},\n",
       " {'_id': {'Console': 'XBOX ONE', 'Genre': 'Jeu de rôle'}, 'Total': 44},\n",
       " {'_id': {'Console': 'SWITCH', 'Genre': 'Activités récréatives'}, 'Total': 42},\n",
       " {'_id': {'Console': 'SWITCH', 'Genre': 'Gestion'}, 'Total': 36},\n",
       " {'_id': {'Console': 'SWITCH', 'Genre': 'Plate-forme'}, 'Total': 36},\n",
       " {'_id': {'Console': 'PC', 'Genre': 'Action'}, 'Total': 32},\n",
       " {'_id': {'Console': 'PS4', 'Genre': 'Aventure'}, 'Total': 30},\n",
       " {'_id': {'Console': 'PS4', 'Genre': 'Gestion'}, 'Total': 28},\n",
       " {'_id': {'Console': 'XBOX ONE', 'Genre': 'Aventure'}, 'Total': 28},\n",
       " {'_id': {'Console': 'PS4', 'Genre': 'Baston / combat'}, 'Total': 26},\n",
       " {'_id': {'Console': 'PS4', 'Genre': 'Sport'}, 'Total': 24},\n",
       " {'_id': {'Console': 'SWITCH', 'Genre': 'Stratégie temps réel'}, 'Total': 24},\n",
       " {'_id': {'Console': 'PS4', 'Genre': 'Plate-forme'}, 'Total': 22},\n",
       " {'_id': {'Console': 'XBOX ONE', 'Genre': 'Course / arcade'}, 'Total': 22},\n",
       " {'_id': {'Console': 'SWITCH', 'Genre': 'Baston / combat'}, 'Total': 20},\n",
       " {'_id': {'Console': 'PS4', 'Genre': 'Activités récréatives'}, 'Total': 20},\n",
       " {'_id': {'Console': 'PS4', 'Genre': 'Stratégie temps réel'}, 'Total': 20},\n",
       " {'_id': {'Console': 'XBOX ONE', 'Genre': 'Baston / combat'}, 'Total': 18},\n",
       " {'_id': {'Console': 'PC', 'Genre': 'Sport'}, 'Total': 18},\n",
       " {'_id': {'Console': 'SWITCH', 'Genre': 'Sport'}, 'Total': 18},\n",
       " {'_id': {'Console': 'PC', 'Genre': 'Gestion'}, 'Total': 16},\n",
       " {'_id': {'Console': 'XBOX ONE', 'Genre': 'Activités récréatives'},\n",
       "  'Total': 16},\n",
       " {'_id': {'Console': 'SWITCH', 'Genre': 'Danse / musique'}, 'Total': 16},\n",
       " {'_id': {'Console': 'XBOX ONE', 'Genre': 'Sport'}, 'Total': 14},\n",
       " {'_id': {'Console': 'PC', 'Genre': 'Aventure'}, 'Total': 14},\n",
       " {'_id': {'Console': 'PC', 'Genre': 'Jeu de rôle'}, 'Total': 14},\n",
       " {'_id': {'Console': 'SWITCH', 'Genre': 'Tir'}, 'Total': 12},\n",
       " {'_id': {'Console': 'PS4', 'Genre': 'Wargame'}, 'Total': 12},\n",
       " {'_id': {'Console': 'XBOX ONE', 'Genre': 'Stratégie temps réel'},\n",
       "  'Total': 12},\n",
       " {'_id': {'Console': 'SWITCH', 'Genre': 'Réflexion'}, 'Total': 10},\n",
       " {'_id': {'Console': 'XBOX ONE', 'Genre': 'Wargame'}, 'Total': 10},\n",
       " {'_id': {'Console': 'XBOX ONE', 'Genre': 'Gestion'}, 'Total': 10},\n",
       " {'_id': {'Console': 'PS4', 'Genre': 'Quake-like'}, 'Total': 10},\n",
       " {'_id': {'Console': 'PS4', 'Genre': 'Football'}, 'Total': 10},\n",
       " {'_id': {'Console': 'XBOX ONE', 'Genre': 'Football'}, 'Total': 8},\n",
       " {'_id': {'Console': 'PC', 'Genre': 'Course / arcade'}, 'Total': 8},\n",
       " {'_id': {'Console': 'XBOX ONE', 'Genre': 'Plate-forme'}, 'Total': 8},\n",
       " {'_id': {'Console': 'PC', 'Genre': 'Stratégie temps réel'}, 'Total': 8},\n",
       " {'_id': {'Console': 'PS4', 'Genre': 'Réflexion'}, 'Total': 8},\n",
       " {'_id': {'Console': 'PS4', 'Genre': 'Danse / musique'}, 'Total': 6},\n",
       " {'_id': {'Console': 'SWITCH', 'Genre': 'Football'}, 'Total': 6},\n",
       " {'_id': {'Console': 'XBOX ONE', 'Genre': 'Réflexion'}, 'Total': 6},\n",
       " {'_id': {'Console': 'XBOX ONE', 'Genre': 'Quake-like'}, 'Total': 6},\n",
       " {'_id': {'Console': 'PS4', 'Genre': \"Beat'em all\"}, 'Total': 6},\n",
       " {'_id': {'Console': 'Missing', 'Genre': 'Course / arcade'}, 'Total': 6},\n",
       " {'_id': {'Console': 'PC', 'Genre': 'Plate-forme'}, 'Total': 6},\n",
       " {'_id': {'Console': 'SWITCH', 'Genre': 'Quake-like'}, 'Total': 6},\n",
       " {'_id': {'Console': 'PC', 'Genre': 'Quake-like'}, 'Total': 6},\n",
       " {'_id': {'Console': 'PS4', 'Genre': 'Basket'}, 'Total': 6},\n",
       " {'_id': {'Console': 'XBOX ONE', 'Genre': \"Shoot'em up\"}, 'Total': 4},\n",
       " {'_id': {'Console': 'PC', 'Genre': 'Wargame'}, 'Total': 4},\n",
       " {'_id': {'Console': 'PC', 'Genre': 'Simulation de vol'}, 'Total': 4},\n",
       " {'_id': {'Console': 'PS4', 'Genre': 'Tir'}, 'Total': 4},\n",
       " {'_id': {'Console': '3DS', 'Genre': 'Action'}, 'Total': 4},\n",
       " {'_id': {'Console': '3DS', 'Genre': 'Plate-forme'}, 'Total': 4},\n",
       " {'_id': {'Console': 'XBOX ONE', 'Genre': \"Beat'em all\"}, 'Total': 4},\n",
       " {'_id': {'Console': 'XBOX ONE', 'Genre': 'Infiltration'}, 'Total': 4},\n",
       " {'_id': {'Console': 'PS4', 'Genre': 'Infiltration'}, 'Total': 4},\n",
       " {'_id': {'Console': 'SWITCH', 'Genre': 'SANS TYPE'}, 'Total': 4},\n",
       " {'_id': {'Console': 'SWITCH', 'Genre': \"Beat'em all\"}, 'Total': 4},\n",
       " {'_id': {'Console': 'XBOX ONE', 'Genre': 'Rallye'}, 'Total': 4},\n",
       " {'_id': {'Console': 'SWITCH', 'Genre': \"Shoot'em up\"}, 'Total': 4},\n",
       " {'_id': {'Console': 'XBOX ONE', 'Genre': 'Basket'}, 'Total': 2},\n",
       " {'_id': {'Console': '3DS', 'Genre': 'Jeu de rôle'}, 'Total': 2},\n",
       " {'_id': {'Console': 'PS4', 'Genre': 'Course / simulation'}, 'Total': 2},\n",
       " {'_id': {'Console': 'PC', 'Genre': 'Tir'}, 'Total': 2},\n",
       " {'_id': {'Console': 'Missing', 'Genre': 'Accessoire'}, 'Total': 2},\n",
       " {'_id': {'Console': 'SWITCH', 'Genre': 'Rallye'}, 'Total': 2},\n",
       " {'_id': {'Console': '3DS', 'Genre': 'Gestion'}, 'Total': 2},\n",
       " {'_id': {'Console': '3DS', 'Genre': 'Action / aventure'}, 'Total': 2},\n",
       " {'_id': {'Console': 'PC', 'Genre': 'Action / aventure'}, 'Total': 2},\n",
       " {'_id': {'Console': 'XBOX ONE', 'Genre': 'Danse / musique'}, 'Total': 2},\n",
       " {'_id': {'Console': 'PS4', 'Genre': \"Shoot'em up\"}, 'Total': 2},\n",
       " {'_id': {'Console': 'PS4', 'Genre': 'Rallye'}, 'Total': 2},\n",
       " {'_id': {'Console': 'PC', 'Genre': 'Football'}, 'Total': 2},\n",
       " {'_id': {'Console': 'SWITCH', 'Genre': 'Action / réflexion'}, 'Total': 2}]"
      ]
     },
     "execution_count": 11,
     "metadata": {},
     "output_type": "execute_result"
    }
   ],
   "source": [
    "match = {\"$match\": {\"Genre\": { \"$not\": { \"$eq\":  \"Missing\" } } } }\n",
    "group = {\"$group\": {\"_id\": {\"Console\": \"$Console\", \"Genre\": \"$Genre\"}, \"Total\": {\"$sum\":1} } } \n",
    "sort = {\"$sort\": {\"Total\":-1}}\n",
    "\n",
    "list(games.aggregate([match,group,sort]))"
   ]
  },
  {
   "cell_type": "markdown",
   "metadata": {},
   "source": [
    "### Et toi à quoi tu joue ? "
   ]
  },
  {
   "cell_type": "code",
   "execution_count": 15,
   "metadata": {},
   "outputs": [
    {
     "data": {
      "text/plain": [
       "[{'_id': 'Basket', 'Title': 'NBA 2k20', 'min_price': 29.99}]"
      ]
     },
     "execution_count": 15,
     "metadata": {},
     "output_type": "execute_result"
    }
   ],
   "source": [
    "genre_pref = input(\"Et toi à quoi tu joue ?\")\n",
    "\n",
    "match = {\"$match\": {\"Genre\": genre_pref } } \n",
    "group = {\"$group\": {\"_id\": \"$Genre\", \"Title\": {\"$first\" :\"$Title\"}, \"min_price\": {\"$min\": \"$Price\"} } } \n",
    "\n",
    "list(games.aggregate([match, group]))\n",
    "\n"
   ]
  },
  {
   "cell_type": "code",
   "execution_count": null,
   "metadata": {},
   "outputs": [],
   "source": []
  }
 ],
 "metadata": {
  "kernelspec": {
   "display_name": "Python 3",
   "language": "python",
   "name": "python3"
  },
  "language_info": {
   "codemirror_mode": {
    "name": "ipython",
    "version": 3
   },
   "file_extension": ".py",
   "mimetype": "text/x-python",
   "name": "python",
   "nbconvert_exporter": "python",
   "pygments_lexer": "ipython3",
   "version": "3.8.3"
  }
 },
 "nbformat": 4,
 "nbformat_minor": 2
}
