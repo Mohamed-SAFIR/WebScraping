{
 "metadata": {
  "language_info": {
   "codemirror_mode": {
    "name": "ipython",
    "version": 3
   },
   "file_extension": ".py",
   "mimetype": "text/x-python",
   "name": "python",
   "nbconvert_exporter": "python",
   "pygments_lexer": "ipython3",
   "version": "3.9.1-final"
  },
  "orig_nbformat": 2,
  "kernelspec": {
   "name": "python3",
   "display_name": "Python 3.9.1 32-bit ('team7_projet': venv)",
   "metadata": {
    "interpreter": {
     "hash": "58324418c87a1f36ca57bf5d6e154e9e5df965e537a97ca699fea238a80d15ed"
    }
   }
  }
 },
 "nbformat": 4,
 "nbformat_minor": 2,
 "cells": [
  {
   "source": [
    " # TEAM 7 FOR THE WIN  - Projet Micromania, à l'abordage des jeux vidéos"
   ],
   "cell_type": "markdown",
   "metadata": {}
  },
  {
   "source": [
    "workon team7_projet \n",
    "pip install selenium, bs4, pandas, pymongo, requests"
   ],
   "cell_type": "code",
   "metadata": {},
   "execution_count": null,
   "outputs": []
  },
  {
   "source": [
    "Site choisi : https://www.micromania.fr/jeux.html"
   ],
   "cell_type": "markdown",
   "metadata": {}
  },
  {
   "cell_type": "code",
   "execution_count": 44,
   "metadata": {},
   "outputs": [],
   "source": [
    "from bs4 import BeautifulSoup\n",
    "import pandas as pd\n",
    "import requests\n",
    "import time"
   ]
  },
  {
   "source": [
    "Fonction pour compléter notre Dataframe"
   ],
   "cell_type": "markdown",
   "metadata": {}
  },
  {
   "cell_type": "code",
   "execution_count": 41,
   "metadata": {},
   "outputs": [],
   "source": [
    "def append_df(soup, df_final):\n",
    "    image = []\n",
    "    title = []\n",
    "    console = []\n",
    "    price = []\n",
    "    date_de_sortie = []\n",
    "    genre = []\n",
    "    details = []\n",
    "    df = pd.DataFrame(columns=['ImageLink', 'Title', 'Console', 'Price', 'Année_de_sortie', 'Genre', 'Details'])\n",
    "\n",
    "    try: \n",
    "        images = [image['src'] for image in soup.findAll('img',{'itemprop': 'image'}, src=True)]\n",
    "        image.append(images[0])\n",
    "    except BaseException:\n",
    "        image.append('Missing')\n",
    "    try: \n",
    "        title.append(soup.select_one(\"h1[class*= pdp-product-name]\").findChildren()[0].text.strip())\n",
    "    except BaseException:\n",
    "        title.append('Missing')\n",
    "    try: \n",
    "        console.append(soup.select_one(\"h1[class*= pdp-product-name]\").findChildren()[1].text.strip())\n",
    "    except BaseException:\n",
    "        console.append('Missing')\n",
    "    try: \n",
    "        price.append(float(soup.select_one(\"span[class=value]\").attrs['content']))\n",
    "    except BaseException:\n",
    "        price.append(0.0)\n",
    "    try: \n",
    "        date_de_sortie.append(int(soup.select_one(\"ul[class*=list-unstyled]\").findChildren()[2].text.strip()[-4:]))\n",
    "    except BaseException:\n",
    "        date_de_sortie.append(0)\n",
    "    try: \n",
    "        genre.append(soup.select_one(\"ul[class*=list-unstyled]\").findChildren()[5].text.strip())\n",
    "    except BaseException:\n",
    "        genre.append('Missing')\n",
    "    try: \n",
    "        details.append(soup.select_one(\"article[class=product-details__description]\").text.strip())\n",
    "    except BaseException:\n",
    "        details.append('Missing')\n",
    "  \n",
    "    df.loc[:, 'ImageLink'] = image\n",
    "    df.loc[:, 'Title'] = title\n",
    "    df.loc[:, 'Console'] = console\n",
    "    df.loc[:, 'Price'] = price\n",
    "    df.loc[:, 'Année_de_sortie'] = date_de_sortie\n",
    "    df.loc[:, 'Genre'] = genre\n",
    "    df.loc[:, 'Details'] = details\n",
    "    df_final = pd.concat([df_final, df])\n",
    "\n",
    "    return df_final"
   ]
  },
  {
   "source": [
    "Fonction pour récupérer les éléments de chaque produits"
   ],
   "cell_type": "markdown",
   "metadata": {}
  },
  {
   "cell_type": "code",
   "execution_count": 42,
   "metadata": {},
   "outputs": [],
   "source": [
    "def iterate_over_products(soup, df_final):\n",
    "    # Récupère tout les hrefs relatifs des produits de la page \n",
    "    all_products = soup.find_all('a', {'class': 'product-image-link'}, href=True)\n",
    "\n",
    "    # Concaténer avec le chemin absolu dans une list comprehensions\n",
    "    href_game = ['https://www.micromania.fr' + a['href'] for a in all_products]\n",
    "\n",
    "    # Boucle sur le nombre d'élement de la page\n",
    "    for i in range(len(href_game)):\n",
    "        soupProduct = BeautifulSoup(requests.get(href_game[i]).content)\n",
    "        df_final = append_df(soupProduct, df_final)\n",
    "    \n",
    "    return df_final"
   ]
  },
  {
   "source": [
    "On récupère le nombre d'éléments"
   ],
   "cell_type": "markdown",
   "metadata": {}
  },
  {
   "cell_type": "code",
   "execution_count": 68,
   "metadata": {},
   "outputs": [
    {
     "output_type": "execute_result",
     "data": {
      "text/plain": [
       "1660"
      ]
     },
     "metadata": {},
     "execution_count": 68
    }
   ],
   "source": [
    "soup = BeautifulSoup(requests.get('https://www.micromania.fr/jeux.html').content)\n",
    "max_elements = int(soup.select_one('.show-more-text').text[26:].strip().replace(' ', ''))\n",
    "#max_elements = 200\n",
    "max_elements"
   ]
  },
  {
   "source": [
    "On boucle sur toutes les pages du site "
   ],
   "cell_type": "markdown",
   "metadata": {}
  },
  {
   "cell_type": "code",
   "execution_count": 47,
   "metadata": {
    "tags": []
   },
   "outputs": [
    {
     "output_type": "execute_result",
     "data": {
      "text/plain": [
       "                                            ImageLink  \\\n",
       "0   https://www.micromania.fr/dw/image/v2/BCRB_PRD...   \n",
       "0   https://www.micromania.fr/dw/image/v2/BCRB_PRD...   \n",
       "0   https://www.micromania.fr/dw/image/v2/BCRB_PRD...   \n",
       "0   https://www.micromania.fr/dw/image/v2/BCRB_PRD...   \n",
       "0   https://www.micromania.fr/dw/image/v2/BCRB_PRD...   \n",
       "..                                                ...   \n",
       "0   https://www.micromania.fr/dw/image/v2/BCRB_PRD...   \n",
       "0   https://www.micromania.fr/dw/image/v2/BCRB_PRD...   \n",
       "0   https://www.micromania.fr/dw/image/v2/BCRB_PRD...   \n",
       "0   https://www.micromania.fr/dw/image/v2/BCRB_PRD...   \n",
       "0   https://www.micromania.fr/dw/image/v2/BCRB_PRD...   \n",
       "\n",
       "                                 Title        Console  Price Année_de_sortie  \\\n",
       "0                       Sea Of Thieves       XBOX ONE  19.99            2018   \n",
       "0                      Forza Horizon 4       XBOX ONE  39.99            2018   \n",
       "0                              Gears 5       XBOX ONE  14.99            2019   \n",
       "0        Ori And The Will Of The Wisps       XBOX ONE  14.99            2020   \n",
       "0      Minecraft Dungeons Hero Edition       XBOX ONE  29.99            2020   \n",
       "..                                 ...            ...    ...             ...   \n",
       "0          Pac-man & Galaga Dimensions            3DS  12.99               0   \n",
       "0      Call Of Duty Black Ops Cold War            PS5  64.99               0   \n",
       "0                              Godfall            PS5  59.99               0   \n",
       "0                        Halo Infinite  XBOX SERIES X   0.00               0   \n",
       "0   Mahjong Mysteries : Ancient Athena            3DS   9.99               0   \n",
       "\n",
       "                    Genre                                            Details  \n",
       "0                  Action  Sea of Thieves est un jeu multijoueur d'un tou...  \n",
       "0         Course / arcade  Forza Horizon 4 est le très attendu successeur...  \n",
       "0                 Wargame  Issus d’une des sagas les plus populaires de l...  \n",
       "0       Action / aventure  Un nouveau voyage commence.Embarquez dans une ...  \n",
       "0   Activités récréatives  Frayez-vous un chemin à travers un tout nouvea...  \n",
       "..                    ...                                                ...  \n",
       "0                 Missing  Pac-Man et Galaga sont deux jeux mythiques des...  \n",
       "0                 Missing  La saga iconique Black Ops est de retour avec ...  \n",
       "0                 Missing  Aperion est au bord du précipice.Vous êtes le ...  \n",
       "0                 Missing  DISPONIBLE EN 2021 : Lorsque tout espoir est p...  \n",
       "0                 Missing  Dans ce jeu, vous devez résoudre des puzzles s...  \n",
       "\n",
       "[1660 rows x 7 columns]"
      ],
      "text/html": "<div>\n<style scoped>\n    .dataframe tbody tr th:only-of-type {\n        vertical-align: middle;\n    }\n\n    .dataframe tbody tr th {\n        vertical-align: top;\n    }\n\n    .dataframe thead th {\n        text-align: right;\n    }\n</style>\n<table border=\"1\" class=\"dataframe\">\n  <thead>\n    <tr style=\"text-align: right;\">\n      <th></th>\n      <th>ImageLink</th>\n      <th>Title</th>\n      <th>Console</th>\n      <th>Price</th>\n      <th>Année_de_sortie</th>\n      <th>Genre</th>\n      <th>Details</th>\n    </tr>\n  </thead>\n  <tbody>\n    <tr>\n      <th>0</th>\n      <td>https://www.micromania.fr/dw/image/v2/BCRB_PRD...</td>\n      <td>Sea Of Thieves</td>\n      <td>XBOX ONE</td>\n      <td>19.99</td>\n      <td>2018</td>\n      <td>Action</td>\n      <td>Sea of Thieves est un jeu multijoueur d'un tou...</td>\n    </tr>\n    <tr>\n      <th>0</th>\n      <td>https://www.micromania.fr/dw/image/v2/BCRB_PRD...</td>\n      <td>Forza Horizon 4</td>\n      <td>XBOX ONE</td>\n      <td>39.99</td>\n      <td>2018</td>\n      <td>Course / arcade</td>\n      <td>Forza Horizon 4 est le très attendu successeur...</td>\n    </tr>\n    <tr>\n      <th>0</th>\n      <td>https://www.micromania.fr/dw/image/v2/BCRB_PRD...</td>\n      <td>Gears 5</td>\n      <td>XBOX ONE</td>\n      <td>14.99</td>\n      <td>2019</td>\n      <td>Wargame</td>\n      <td>Issus d’une des sagas les plus populaires de l...</td>\n    </tr>\n    <tr>\n      <th>0</th>\n      <td>https://www.micromania.fr/dw/image/v2/BCRB_PRD...</td>\n      <td>Ori And The Will Of The Wisps</td>\n      <td>XBOX ONE</td>\n      <td>14.99</td>\n      <td>2020</td>\n      <td>Action / aventure</td>\n      <td>Un nouveau voyage commence.Embarquez dans une ...</td>\n    </tr>\n    <tr>\n      <th>0</th>\n      <td>https://www.micromania.fr/dw/image/v2/BCRB_PRD...</td>\n      <td>Minecraft Dungeons Hero Edition</td>\n      <td>XBOX ONE</td>\n      <td>29.99</td>\n      <td>2020</td>\n      <td>Activités récréatives</td>\n      <td>Frayez-vous un chemin à travers un tout nouvea...</td>\n    </tr>\n    <tr>\n      <th>...</th>\n      <td>...</td>\n      <td>...</td>\n      <td>...</td>\n      <td>...</td>\n      <td>...</td>\n      <td>...</td>\n      <td>...</td>\n    </tr>\n    <tr>\n      <th>0</th>\n      <td>https://www.micromania.fr/dw/image/v2/BCRB_PRD...</td>\n      <td>Pac-man &amp; Galaga Dimensions</td>\n      <td>3DS</td>\n      <td>12.99</td>\n      <td>0</td>\n      <td>Missing</td>\n      <td>Pac-Man et Galaga sont deux jeux mythiques des...</td>\n    </tr>\n    <tr>\n      <th>0</th>\n      <td>https://www.micromania.fr/dw/image/v2/BCRB_PRD...</td>\n      <td>Call Of Duty Black Ops Cold War</td>\n      <td>PS5</td>\n      <td>64.99</td>\n      <td>0</td>\n      <td>Missing</td>\n      <td>La saga iconique Black Ops est de retour avec ...</td>\n    </tr>\n    <tr>\n      <th>0</th>\n      <td>https://www.micromania.fr/dw/image/v2/BCRB_PRD...</td>\n      <td>Godfall</td>\n      <td>PS5</td>\n      <td>59.99</td>\n      <td>0</td>\n      <td>Missing</td>\n      <td>Aperion est au bord du précipice.Vous êtes le ...</td>\n    </tr>\n    <tr>\n      <th>0</th>\n      <td>https://www.micromania.fr/dw/image/v2/BCRB_PRD...</td>\n      <td>Halo Infinite</td>\n      <td>XBOX SERIES X</td>\n      <td>0.00</td>\n      <td>0</td>\n      <td>Missing</td>\n      <td>DISPONIBLE EN 2021 : Lorsque tout espoir est p...</td>\n    </tr>\n    <tr>\n      <th>0</th>\n      <td>https://www.micromania.fr/dw/image/v2/BCRB_PRD...</td>\n      <td>Mahjong Mysteries : Ancient Athena</td>\n      <td>3DS</td>\n      <td>9.99</td>\n      <td>0</td>\n      <td>Missing</td>\n      <td>Dans ce jeu, vous devez résoudre des puzzles s...</td>\n    </tr>\n  </tbody>\n</table>\n<p>1660 rows × 7 columns</p>\n</div>"
     },
     "metadata": {},
     "execution_count": 47
    }
   ],
   "source": [
    "request = requests.get(f'https://www.micromania.fr/jeux.html?start=0&sz=48')\n",
    "position = 0\n",
    "df_final = pd.DataFrame(columns=['ImageLink', 'Title', 'Console', 'Price', 'Année_de_sortie', 'Genre', 'Details'])\n",
    "while position <= max_elements:\n",
    "    soup = BeautifulSoup(requests.get(f'https://www.micromania.fr/jeux.html?start={position}&sz=48').content)\n",
    "    df_final = iterate_over_products(soup, df_final)\n",
    "    position += 48\n",
    "\n",
    "df_final"
   ]
  },
  {
   "source": [
    "On récupère notre dataframe que l'on transforme en json"
   ],
   "cell_type": "markdown",
   "metadata": {}
  },
  {
   "cell_type": "code",
   "execution_count": 66,
   "metadata": {},
   "outputs": [
    {
     "output_type": "execute_result",
     "data": {
      "text/plain": [
       "ImageLink           object\n",
       "Title               object\n",
       "Console             object\n",
       "Price              float64\n",
       "Année_de_sortie      int32\n",
       "Genre               object\n",
       "dtype: object"
      ]
     },
     "metadata": {},
     "execution_count": 66
    }
   ],
   "source": [
    "import json\n",
    "df_final = df_final.reset_index(drop=True)\n",
    "df_final['Année_de_sortie'] = df_final['Année_de_sortie'].astype(int)\n",
    "df_final.to_json(\"./games.json\", orient='records')\n",
    "\n",
    "df_final.drop(['Details'], axis=1, inplace=True) # Pour Power BI\n",
    "df_final.to_csv(\"./games.csv\", sep=\"§\") # Pour Power BI !\n",
    "df_final.dtypes"
   ]
  },
  {
   "source": [
    "Création du client pymongo pour mongodb"
   ],
   "cell_type": "markdown",
   "metadata": {}
  },
  {
   "cell_type": "code",
   "execution_count": 61,
   "metadata": {},
   "outputs": [],
   "source": [
    "from pymongo import MongoClient\n",
    "client = MongoClient('localhost', 27017)\n",
    "db = client['micromania']\n",
    "games = db['games']"
   ]
  },
  {
   "source": [
    "Insertion des datas dans mongodb"
   ],
   "cell_type": "markdown",
   "metadata": {}
  },
  {
   "cell_type": "code",
   "execution_count": 62,
   "metadata": {},
   "outputs": [
    {
     "output_type": "execute_result",
     "data": {
      "text/plain": [
       "<pymongo.results.InsertManyResult at 0x1f7c96e8>"
      ]
     },
     "metadata": {},
     "execution_count": 62
    }
   ],
   "source": [
    "with open(\"games.json\") as f:\n",
    "    data_json = json.load(f)\n",
    "games.insert_many(data_json)"
   ]
  }
 ]
}